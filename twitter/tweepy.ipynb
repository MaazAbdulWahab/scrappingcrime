{
 "cells": [
  {
   "cell_type": "code",
   "execution_count": 1,
   "metadata": {},
   "outputs": [],
   "source": [
    "import tweepy\n",
    "import datetime\n",
    "import pytz\n",
    "from pymongo import MongoClient"
   ]
  },
  {
   "cell_type": "code",
   "execution_count": 2,
   "metadata": {},
   "outputs": [],
   "source": [
    "client = MongoClient('mongodb://localhost:27017/')\n",
    "db = client['crime_app']\n",
    "table=db['crimes']"
   ]
  },
  {
   "cell_type": "code",
   "execution_count": 3,
   "metadata": {},
   "outputs": [
    {
     "data": {
      "text/plain": [
       "['NYScanner',\n",
       " 'Breaking911',\n",
       " 'WembleyCrime',\n",
       " 'NYC_Alerts911',\n",
       " 'NYCPBA_GC',\n",
       " '999London']"
      ]
     },
     "execution_count": 3,
     "metadata": {},
     "output_type": "execute_result"
    }
   ],
   "source": [
    "editable_list=db['list_of_resources']\n",
    "editable_list=editable_list.find_one({'Network':'Twitter'})\n",
    "list_of_users=[]\n",
    "list_of_users=editable_list['Users']\n",
    "list_of_users   "
   ]
  },
  {
   "cell_type": "code",
   "execution_count": 4,
   "metadata": {},
   "outputs": [
    {
     "name": "stdout",
     "output_type": "stream",
     "text": [
      "2020-10-06 12:46:14.592259+03:00\n",
      "2020-10-05 12:46:14.592259+03:00\n"
     ]
    }
   ],
   "source": [
    "datetime_now=datetime.datetime.now(tz=pytz.timezone('EET'))\n",
    "print(datetime_now)\n",
    "delta=datetime.timedelta(days=1)\n",
    "datetime_now=datetime_now-delta\n",
    "print(datetime_now)\n",
    "cursor=table.find({'Network':'Twitter','User_Name':{'$in':list_of_users},'Date':{'$gte':datetime.datetime.strptime(datetime_now.strftime('%Y-%m-%d %H:%M:%S'),'%Y-%m-%d %H:%M:%S')}})"
   ]
  },
  {
   "cell_type": "code",
   "execution_count": 5,
   "metadata": {},
   "outputs": [],
   "source": [
    "old_list=[]\n",
    "for row in cursor:\n",
    "    \n",
    "    old_list.append(row['Key'])"
   ]
  },
  {
   "cell_type": "code",
   "execution_count": 6,
   "metadata": {},
   "outputs": [
    {
     "data": {
      "text/plain": [
       "[]"
      ]
     },
     "execution_count": 6,
     "metadata": {},
     "output_type": "execute_result"
    }
   ],
   "source": [
    "old_list"
   ]
  },
  {
   "cell_type": "code",
   "execution_count": 2,
   "metadata": {},
   "outputs": [],
   "source": [
    "auth = tweepy.OAuthHandler(\"tqkO93rY3ebu7zeyClrBF1Hyd\", \"jaALz9cgpqCphEvYMf5Tz2r8Y9vr53amwV13jI4BYdSjtZ62La\")\n",
    "auth.set_access_token(\"70963462-UbwqX7G1xKXT92IS8wxqZAqdT9ORX1vrB2Ya07bhX\", \"Jmwv8KCCLOth1MYPs3mP8dHu2a2v2G2AFq2QTj8LvID2U\")"
   ]
  },
  {
   "cell_type": "code",
   "execution_count": 3,
   "metadata": {},
   "outputs": [],
   "source": [
    "api = tweepy.API(auth)"
   ]
  },
  {
   "cell_type": "code",
   "execution_count": 9,
   "metadata": {},
   "outputs": [
    {
     "name": "stdout",
     "output_type": "stream",
     "text": [
      "NYScanner\n",
      "None\n",
      "No Media Found\n",
      "None\n",
      "No Media Found\n",
      "None\n",
      "None\n",
      "None\n",
      "No Media Found\n",
      "None\n",
      "None\n",
      "None\n",
      "No Media Found\n",
      "None\n",
      "None\n",
      "No Media Found\n",
      "None\n",
      "No Media Found\n",
      "None\n",
      "None\n",
      "None\n",
      "No Media Found\n",
      "None\n",
      "No Media Found\n",
      "None\n",
      "No Media Found\n",
      "None\n",
      "No Media Found\n",
      "None\n",
      "No Media Found\n",
      "None\n",
      "No Media Found\n",
      "None\n",
      "No Media Found\n",
      "Breaking911\n",
      "None\n",
      "None\n",
      "No Media Found\n",
      "None\n",
      "No Media Found\n",
      "None\n",
      "None\n",
      "None\n",
      "None\n",
      "None\n",
      "No Media Found\n",
      "None\n",
      "None\n",
      "None\n",
      "None\n",
      "No Media Found\n",
      "None\n",
      "None\n",
      "No Media Found\n",
      "None\n",
      "None\n",
      "None\n",
      "None\n",
      "No Media Found\n",
      "None\n",
      "No Media Found\n",
      "None\n",
      "WembleyCrime\n",
      "None\n",
      "No Media Found\n",
      "None\n",
      "No Media Found\n",
      "None\n",
      "No Media Found\n",
      "None\n",
      "No Media Found\n",
      "None\n",
      "No Media Found\n",
      "None\n",
      "No Media Found\n",
      "None\n",
      "No Media Found\n",
      "None\n",
      "No Media Found\n",
      "None\n",
      "No Media Found\n",
      "None\n",
      "No Media Found\n",
      "None\n",
      "No Media Found\n",
      "None\n",
      "No Media Found\n",
      "None\n",
      "No Media Found\n",
      "None\n",
      "No Media Found\n",
      "None\n",
      "No Media Found\n",
      "None\n",
      "No Media Found\n",
      "None\n",
      "No Media Found\n",
      "None\n",
      "No Media Found\n",
      "None\n",
      "No Media Found\n",
      "None\n",
      "No Media Found\n",
      "NYC_Alerts911\n",
      "None\n",
      "No Media Found\n",
      "None\n",
      "No Media Found\n",
      "None\n",
      "No Media Found\n",
      "None\n",
      "No Media Found\n",
      "None\n",
      "No Media Found\n",
      "None\n",
      "No Media Found\n",
      "None\n",
      "No Media Found\n",
      "None\n",
      "No Media Found\n",
      "None\n",
      "No Media Found\n",
      "None\n",
      "No Media Found\n",
      "None\n",
      "No Media Found\n",
      "None\n",
      "No Media Found\n",
      "None\n",
      "No Media Found\n",
      "None\n",
      "No Media Found\n",
      "None\n",
      "No Media Found\n",
      "None\n",
      "No Media Found\n",
      "None\n",
      "No Media Found\n",
      "None\n",
      "No Media Found\n",
      "None\n",
      "No Media Found\n",
      "None\n",
      "No Media Found\n",
      "NYCPBA_GC\n",
      "None\n",
      "No Media Found\n",
      "None\n",
      "No Media Found\n",
      "None\n",
      "No Media Found\n",
      "None\n",
      "No Media Found\n",
      "None\n",
      "No Media Found\n",
      "None\n",
      "No Media Found\n",
      "None\n",
      "No Media Found\n",
      "None\n",
      "No Media Found\n",
      "None\n",
      "No Media Found\n",
      "None\n",
      "No Media Found\n",
      "None\n",
      "No Media Found\n",
      "None\n",
      "No Media Found\n",
      "None\n",
      "No Media Found\n",
      "None\n",
      "No Media Found\n",
      "None\n",
      "No Media Found\n",
      "None\n",
      "No Media Found\n",
      "None\n",
      "No Media Found\n",
      "None\n",
      "No Media Found\n",
      "None\n",
      "No Media Found\n",
      "None\n",
      "No Media Found\n",
      "999London\n",
      "None\n",
      "None\n",
      "None\n",
      "None\n",
      "None\n",
      "No Media Found\n",
      "None\n",
      "No Media Found\n",
      "None\n",
      "None\n",
      "None\n",
      "No Media Found\n",
      "None\n",
      "None\n",
      "None\n",
      "None\n",
      "None\n",
      "No Media Found\n",
      "None\n",
      "None\n",
      "None\n",
      "None\n",
      "None\n",
      "None\n"
     ]
    }
   ],
   "source": [
    "for user in list_of_users:\n",
    "    #print(len(tweets))\n",
    "    print(user)\n",
    "    tweets=api.user_timeline(screen_name=user ,  tweet_mode='extended')\n",
    "    for tweet in tweets:\n",
    "        tweet_id=tweet.id\n",
    "        if tweet_id in old_list:\n",
    "            print('Found in Old')\n",
    "            break\n",
    "        user_name=tweet.user.screen_name\n",
    "        text=tweet.full_text\n",
    "        date_time_obj=tweet.created_at\n",
    "        print(date_time_obj.tzinfo)\n",
    "        tz = pytz.timezone('UTC')\n",
    "        date_time_obj = date_time_obj.replace(tzinfo=tz)\n",
    "        date_time_obj=  date_time_obj.astimezone(pytz.timezone('EET'))\n",
    "        videolinks=[]\n",
    "        image_links=[]\n",
    "        \n",
    "        try:\n",
    "            media=tweet.extended_entities['media']\n",
    "            for med in media:\n",
    "                media_type=med['type']\n",
    "            #print(media_type)\n",
    "                if media_type == 'photo':\n",
    "                    img_url=med['media_url_https']\n",
    "                    #print(img_url)\n",
    "                    image_links.append(img_url)\n",
    "                elif media_type == 'video':\n",
    "                    video_variants=med['video_info']['variants']\n",
    "                    for variant in video_variants:\n",
    "                        if variant['content_type'] == 'video/mp4':\n",
    "                            #print(variant['url'])\n",
    "                            videolinks.append(variant['url'])\n",
    "                            break\n",
    "                \n",
    "        except:\n",
    "            print('No Media Found')\n",
    "    \n",
    "        document={'Key':tweet_id,'Text':text, 'Date':date_time_obj,  'Image_url':image_links , 'Video_Sources':videolinks, 'Network': 'Twitter','User_Name':user_name}  \n",
    "       \n",
    "        #table.insert_one(document)"
   ]
  },
  {
   "cell_type": "code",
   "execution_count": 10,
   "metadata": {},
   "outputs": [],
   "source": [
    "tweets=api.user_timeline(screen_name='MaazAbdulWahab1' ,  tweet_mode='extended')"
   ]
  },
  {
   "cell_type": "code",
   "execution_count": 13,
   "metadata": {},
   "outputs": [
    {
     "data": {
      "text/plain": [
       "Status(_api=<tweepy.api.API object at 0x00000143CD401848>, _json={'created_at': 'Wed Oct 07 11:54:55 +0000 2020', 'id': 1313810030551093255, 'id_str': '1313810030551093255', 'full_text': 'Geo coordinates feature of twitter', 'truncated': False, 'display_text_range': [0, 34], 'entities': {'hashtags': [], 'symbols': [], 'user_mentions': [], 'urls': []}, 'source': '<a href=\"http://twitter.com/download/android\" rel=\"nofollow\">Twitter for Android</a>', 'in_reply_to_status_id': None, 'in_reply_to_status_id_str': None, 'in_reply_to_user_id': None, 'in_reply_to_user_id_str': None, 'in_reply_to_screen_name': None, 'user': {'id': 2942667140, 'id_str': '2942667140', 'name': 'Maaz Abdul Wahab', 'screen_name': 'MaazAbdulWahab1', 'location': 'Karachi', 'description': 'Insha Allah computer scientist,  data scientist,  and machine learning engineer to be. \\n\\nPakistan Zindabad', 'url': None, 'entities': {'description': {'urls': []}}, 'protected': False, 'followers_count': 51, 'friends_count': 127, 'listed_count': 0, 'created_at': 'Thu Dec 25 08:39:41 +0000 2014', 'favourites_count': 2819, 'utc_offset': None, 'time_zone': None, 'geo_enabled': True, 'verified': False, 'statuses_count': 732, 'lang': None, 'contributors_enabled': False, 'is_translator': False, 'is_translation_enabled': False, 'profile_background_color': '000000', 'profile_background_image_url': 'http://abs.twimg.com/images/themes/theme1/bg.png', 'profile_background_image_url_https': 'https://abs.twimg.com/images/themes/theme1/bg.png', 'profile_background_tile': False, 'profile_image_url': 'http://pbs.twimg.com/profile_images/1241359107510206465/kaDo3xky_normal.jpg', 'profile_image_url_https': 'https://pbs.twimg.com/profile_images/1241359107510206465/kaDo3xky_normal.jpg', 'profile_banner_url': 'https://pbs.twimg.com/profile_banners/2942667140/1559067021', 'profile_link_color': '4A913C', 'profile_sidebar_border_color': '000000', 'profile_sidebar_fill_color': '000000', 'profile_text_color': '000000', 'profile_use_background_image': False, 'has_extended_profile': True, 'default_profile': False, 'default_profile_image': False, 'following': False, 'follow_request_sent': False, 'notifications': False, 'translator_type': 'none'}, 'geo': None, 'coordinates': None, 'place': {'id': '07d9e97113087001', 'url': 'https://api.twitter.com/1.1/geo/id/07d9e97113087001.json', 'place_type': 'poi', 'name': 'Gulshan E Iqbal Block 10', 'full_name': 'Gulshan E Iqbal Block 10', 'country_code': 'PK', 'country': 'Pakistan', 'contained_within': [], 'bounding_box': {'type': 'Polygon', 'coordinates': [[[67.10093211179507, 24.914091319449547], [67.10093211179507, 24.914091319449547], [67.10093211179507, 24.914091319449547], [67.10093211179507, 24.914091319449547]]]}, 'attributes': {}}, 'contributors': None, 'is_quote_status': False, 'retweet_count': 0, 'favorite_count': 0, 'favorited': False, 'retweeted': False, 'lang': 'en'}, created_at=datetime.datetime(2020, 10, 7, 11, 54, 55), id=1313810030551093255, id_str='1313810030551093255', full_text='Geo coordinates feature of twitter', truncated=False, display_text_range=[0, 34], entities={'hashtags': [], 'symbols': [], 'user_mentions': [], 'urls': []}, source='Twitter for Android', source_url='http://twitter.com/download/android', in_reply_to_status_id=None, in_reply_to_status_id_str=None, in_reply_to_user_id=None, in_reply_to_user_id_str=None, in_reply_to_screen_name=None, author=User(_api=<tweepy.api.API object at 0x00000143CD401848>, _json={'id': 2942667140, 'id_str': '2942667140', 'name': 'Maaz Abdul Wahab', 'screen_name': 'MaazAbdulWahab1', 'location': 'Karachi', 'description': 'Insha Allah computer scientist,  data scientist,  and machine learning engineer to be. \\n\\nPakistan Zindabad', 'url': None, 'entities': {'description': {'urls': []}}, 'protected': False, 'followers_count': 51, 'friends_count': 127, 'listed_count': 0, 'created_at': 'Thu Dec 25 08:39:41 +0000 2014', 'favourites_count': 2819, 'utc_offset': None, 'time_zone': None, 'geo_enabled': True, 'verified': False, 'statuses_count': 732, 'lang': None, 'contributors_enabled': False, 'is_translator': False, 'is_translation_enabled': False, 'profile_background_color': '000000', 'profile_background_image_url': 'http://abs.twimg.com/images/themes/theme1/bg.png', 'profile_background_image_url_https': 'https://abs.twimg.com/images/themes/theme1/bg.png', 'profile_background_tile': False, 'profile_image_url': 'http://pbs.twimg.com/profile_images/1241359107510206465/kaDo3xky_normal.jpg', 'profile_image_url_https': 'https://pbs.twimg.com/profile_images/1241359107510206465/kaDo3xky_normal.jpg', 'profile_banner_url': 'https://pbs.twimg.com/profile_banners/2942667140/1559067021', 'profile_link_color': '4A913C', 'profile_sidebar_border_color': '000000', 'profile_sidebar_fill_color': '000000', 'profile_text_color': '000000', 'profile_use_background_image': False, 'has_extended_profile': True, 'default_profile': False, 'default_profile_image': False, 'following': False, 'follow_request_sent': False, 'notifications': False, 'translator_type': 'none'}, id=2942667140, id_str='2942667140', name='Maaz Abdul Wahab', screen_name='MaazAbdulWahab1', location='Karachi', description='Insha Allah computer scientist,  data scientist,  and machine learning engineer to be. \\n\\nPakistan Zindabad', url=None, entities={'description': {'urls': []}}, protected=False, followers_count=51, friends_count=127, listed_count=0, created_at=datetime.datetime(2014, 12, 25, 8, 39, 41), favourites_count=2819, utc_offset=None, time_zone=None, geo_enabled=True, verified=False, statuses_count=732, lang=None, contributors_enabled=False, is_translator=False, is_translation_enabled=False, profile_background_color='000000', profile_background_image_url='http://abs.twimg.com/images/themes/theme1/bg.png', profile_background_image_url_https='https://abs.twimg.com/images/themes/theme1/bg.png', profile_background_tile=False, profile_image_url='http://pbs.twimg.com/profile_images/1241359107510206465/kaDo3xky_normal.jpg', profile_image_url_https='https://pbs.twimg.com/profile_images/1241359107510206465/kaDo3xky_normal.jpg', profile_banner_url='https://pbs.twimg.com/profile_banners/2942667140/1559067021', profile_link_color='4A913C', profile_sidebar_border_color='000000', profile_sidebar_fill_color='000000', profile_text_color='000000', profile_use_background_image=False, has_extended_profile=True, default_profile=False, default_profile_image=False, following=False, follow_request_sent=False, notifications=False, translator_type='none'), user=User(_api=<tweepy.api.API object at 0x00000143CD401848>, _json={'id': 2942667140, 'id_str': '2942667140', 'name': 'Maaz Abdul Wahab', 'screen_name': 'MaazAbdulWahab1', 'location': 'Karachi', 'description': 'Insha Allah computer scientist,  data scientist,  and machine learning engineer to be. \\n\\nPakistan Zindabad', 'url': None, 'entities': {'description': {'urls': []}}, 'protected': False, 'followers_count': 51, 'friends_count': 127, 'listed_count': 0, 'created_at': 'Thu Dec 25 08:39:41 +0000 2014', 'favourites_count': 2819, 'utc_offset': None, 'time_zone': None, 'geo_enabled': True, 'verified': False, 'statuses_count': 732, 'lang': None, 'contributors_enabled': False, 'is_translator': False, 'is_translation_enabled': False, 'profile_background_color': '000000', 'profile_background_image_url': 'http://abs.twimg.com/images/themes/theme1/bg.png', 'profile_background_image_url_https': 'https://abs.twimg.com/images/themes/theme1/bg.png', 'profile_background_tile': False, 'profile_image_url': 'http://pbs.twimg.com/profile_images/1241359107510206465/kaDo3xky_normal.jpg', 'profile_image_url_https': 'https://pbs.twimg.com/profile_images/1241359107510206465/kaDo3xky_normal.jpg', 'profile_banner_url': 'https://pbs.twimg.com/profile_banners/2942667140/1559067021', 'profile_link_color': '4A913C', 'profile_sidebar_border_color': '000000', 'profile_sidebar_fill_color': '000000', 'profile_text_color': '000000', 'profile_use_background_image': False, 'has_extended_profile': True, 'default_profile': False, 'default_profile_image': False, 'following': False, 'follow_request_sent': False, 'notifications': False, 'translator_type': 'none'}, id=2942667140, id_str='2942667140', name='Maaz Abdul Wahab', screen_name='MaazAbdulWahab1', location='Karachi', description='Insha Allah computer scientist,  data scientist,  and machine learning engineer to be. \\n\\nPakistan Zindabad', url=None, entities={'description': {'urls': []}}, protected=False, followers_count=51, friends_count=127, listed_count=0, created_at=datetime.datetime(2014, 12, 25, 8, 39, 41), favourites_count=2819, utc_offset=None, time_zone=None, geo_enabled=True, verified=False, statuses_count=732, lang=None, contributors_enabled=False, is_translator=False, is_translation_enabled=False, profile_background_color='000000', profile_background_image_url='http://abs.twimg.com/images/themes/theme1/bg.png', profile_background_image_url_https='https://abs.twimg.com/images/themes/theme1/bg.png', profile_background_tile=False, profile_image_url='http://pbs.twimg.com/profile_images/1241359107510206465/kaDo3xky_normal.jpg', profile_image_url_https='https://pbs.twimg.com/profile_images/1241359107510206465/kaDo3xky_normal.jpg', profile_banner_url='https://pbs.twimg.com/profile_banners/2942667140/1559067021', profile_link_color='4A913C', profile_sidebar_border_color='000000', profile_sidebar_fill_color='000000', profile_text_color='000000', profile_use_background_image=False, has_extended_profile=True, default_profile=False, default_profile_image=False, following=False, follow_request_sent=False, notifications=False, translator_type='none'), geo=None, coordinates=None, place=Place(_api=<tweepy.api.API object at 0x00000143CD401848>, id='07d9e97113087001', url='https://api.twitter.com/1.1/geo/id/07d9e97113087001.json', place_type='poi', name='Gulshan E Iqbal Block 10', full_name='Gulshan E Iqbal Block 10', country_code='PK', country='Pakistan', contained_within=[], bounding_box=BoundingBox(_api=<tweepy.api.API object at 0x00000143CD401848>, type='Polygon', coordinates=[[[67.10093211179507, 24.914091319449547], [67.10093211179507, 24.914091319449547], [67.10093211179507, 24.914091319449547], [67.10093211179507, 24.914091319449547]]]), attributes={}), contributors=None, is_quote_status=False, retweet_count=0, favorite_count=0, favorited=False, retweeted=False, lang='en')"
      ]
     },
     "execution_count": 13,
     "metadata": {},
     "output_type": "execute_result"
    }
   ],
   "source": [
    "tweets[0]"
   ]
  },
  {
   "cell_type": "code",
   "execution_count": null,
   "metadata": {},
   "outputs": [],
   "source": []
  }
 ],
 "metadata": {
  "kernelspec": {
   "display_name": "Python 3",
   "language": "python",
   "name": "python3"
  },
  "language_info": {
   "codemirror_mode": {
    "name": "ipython",
    "version": 3
   },
   "file_extension": ".py",
   "mimetype": "text/x-python",
   "name": "python",
   "nbconvert_exporter": "python",
   "pygments_lexer": "ipython3",
   "version": "3.7.9"
  }
 },
 "nbformat": 4,
 "nbformat_minor": 4
}
