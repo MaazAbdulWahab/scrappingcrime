{
 "cells": [
  {
   "cell_type": "code",
   "execution_count": 23,
   "metadata": {},
   "outputs": [],
   "source": [
    "import requests\n",
    "import bs4\n",
    "from bs4 import BeautifulSoup as soup\n",
    "import pandas as pd\n",
    "from datetime import datetime\n",
    "import pytz\n",
    "from pymongo import MongoClient\n",
    "from datetime import timedelta\n",
    "from urllib.request import Request , urlopen"
   ]
  },
  {
   "cell_type": "code",
   "execution_count": 24,
   "metadata": {},
   "outputs": [],
   "source": [
    " client = MongoClient('mongodb://localhost:27017/')"
   ]
  },
  {
   "cell_type": "code",
   "execution_count": 25,
   "metadata": {},
   "outputs": [],
   "source": [
    "db = client['crime_app']\n",
    "table=db['crimes']"
   ]
  },
  {
   "cell_type": "code",
   "execution_count": 26,
   "metadata": {},
   "outputs": [],
   "source": [
    "\n",
    "urls={'miami':'https://citizen.com/api/incident/trending?lowerLatitude=25.672174256489043&lowerLongitude=-80.4344234133622&upperLatitude=25.920839335586436&upperLongitude=-80.01550258663684&fullResponse=true&limit=20', \n",
    "      'new york':'https://citizen.com/api/incident/trending?lowerLatitude=40.261686710556404&lowerLongitude=-74.81635630855982&upperLatitude=41.18908240966411&upperLongitude=-73.11564369144105&fullResponse=true&limit=20',\n",
    "     'austin':'https://citizen.com/api/incident/trending?lowerLatitude=29.738300837278217&lowerLongitude=-98.60285830855923&upperLatitude=30.795222582623737&upperLongitude=-96.90214569144081&fullResponse=true&limit=20',\n",
    "     'baltimore':'https://citizen.com/api/incident/trending?lowerLatitude=39.21772220334134&lowerLongitude=-76.75488050418187&upperLatitude=39.38018353927404&upperLongitude=-76.46311949581934&fullResponse=true&limit=20',\n",
    "     'cleveland':'https://citizen.com/api/incident/trending?lowerLatitude=41.39810311215828&lowerLongitude=-81.8263119167396&upperLatitude=41.55539424005582&upperLongitude=-81.53455090837701&fullResponse=true&limit=20',\n",
    "     'cincinnati':'https://citizen.com/api/incident/trending?lowerLatitude=38.91357469384428&lowerLongitude=-84.9335164270882&upperLatitude=39.42743853297762&upperLongitude=-84.01236018664895&fullResponse=true&limit=20',\n",
    "     'columbus': 'https://citizen.com/api/incident/trending?lowerLatitude=39.88761983506768&lowerLongitude=-83.14172530418085&upperLatitude=40.048517289309416&upperLongitude=-82.84996429581832&fullResponse=true&limit=20',\n",
    "     'charlotte':'https://citizen.com/api/incident/trending?lowerLatitude=35.32337228624063&lowerLongitude=-84.84960066238546&upperLatitude=38.93552269689269&upperLongitude=-78.55095087814328&fullResponse=true&limit=20',\n",
    "     'chicago':'https://citizen.com/api/incident/trending?lowerLatitude=41.773313054724724&lowerLongitude=-87.804520504182&upperLatitude=41.92969137030829&upperLongitude=-87.51275949581947&fullResponse=true&limit=20',\n",
    "     'detroit':'https://citizen.com/api/incident/trending?lowerLatitude=39.448137919239514&lowerLongitude=-84.601770178636&upperLatitude=44.164173923741146&upperLongitude=-75.80265761144233&fullResponse=true&limit=20',\n",
    "     'houston':'https://citizen.com/api/incident/trending?lowerLatitude=29.620057015864077&lowerLongitude=-95.58294673207138&upperLatitude=29.879375284648717&upperLongitude=-95.16785126792848&fullResponse=true&limit=20',\n",
    "     'indianapolis':'https://citizen.com/api/incident/trending?lowerLatitude=39.373519878846224&lowerLongitude=-86.87262162459285&upperLatitude=40.162111876327884&upperLongitude=-85.44678237540683&fullResponse=true&limit=20',\n",
    "    'los angeles':'https://citizen.com/api/incident/trending?lowerLatitude=33.64299720998807&lowerLongitude=-119.05491962459303&upperLatitude=34.49287152662065&upperLongitude=-117.6290803754074&fullResponse=true&limit=20',\n",
    "     'minneapolis':'https://citizen.com/api/incident/trending?lowerLatitude=44.60903023809183&lowerLongitude=-93.97714262459374&upperLatitude=45.334843332235636&upperLongitude=-92.55130337540777&fullResponse=true&limit=20',\n",
    "     'philadelphia':'https://citizen.com/api/incident/trending?lowerLatitude=39.837420868282095&lowerLongitude=-75.3735477320709&upperLatitude=40.06638751389556&upperLongitude=-74.95845226792846&fullResponse=true&limit=20',\n",
    "     'phoenix':'https://citizen.com/api/incident/trending?lowerLatitude=33.39240309192556&lowerLongitude=-112.22388050418095&upperLatitude=33.567508423126355&upperLongitude=-111.93211949581814&fullResponse=true&limit=20',\n",
    "     'san francisco':'https://citizen.com/api/incident/trending?lowerLatitude=37.38890933552479&lowerLongitude=-122.59020790312877&upperLatitude=37.79054881168709&upperLongitude=-121.88579209687083&fullResponse=true&limit=20',\n",
    "     'stockton':'https://citizen.com/api/incident/trending?lowerLatitude=37.90651339148734&lowerLongitude=-121.42075593728612&upperLatitude=38.04525504465582&upperLongitude=-121.1761500627145&fullResponse=true&limit=20',\n",
    "     'tucson':'https://citizen.com/api/incident/trending?lowerLatitude=31.533091897097748&lowerLongitude=-112.0677493154426&upperLatitude=32.881907338344476&upperLongitude=-109.85225068455782&fullResponse=true&limit=20'}"
   ]
  },
  {
   "cell_type": "code",
   "execution_count": 27,
   "metadata": {},
   "outputs": [],
   "source": [
    "editable_list=db['list_of_resources']\n",
    "editable_list=editable_list.find_one({'Network':'Citizen App'})\n",
    "list_of_cities=editable_list['Locations']\n",
    "#to_find=['new york','los angeles','san francisco']"
   ]
  },
  {
   "cell_type": "code",
   "execution_count": 28,
   "metadata": {},
   "outputs": [
    {
     "data": {
      "text/plain": [
       "['new york', 'los angeles', 'san francisco']"
      ]
     },
     "execution_count": 28,
     "metadata": {},
     "output_type": "execute_result"
    }
   ],
   "source": [
    "list_of_cities"
   ]
  },
  {
   "cell_type": "code",
   "execution_count": 29,
   "metadata": {},
   "outputs": [],
   "source": [
    "links={}"
   ]
  },
  {
   "cell_type": "code",
   "execution_count": 30,
   "metadata": {},
   "outputs": [],
   "source": [
    "for item in list_of_cities:\n",
    "    keys=urls.keys()\n",
    "    for key in keys:\n",
    "        if item.lower() in key:\n",
    "            links[item]=urls[key]"
   ]
  },
  {
   "cell_type": "code",
   "execution_count": 31,
   "metadata": {},
   "outputs": [
    {
     "data": {
      "text/plain": [
       "{'new york': 'https://citizen.com/api/incident/trending?lowerLatitude=40.261686710556404&lowerLongitude=-74.81635630855982&upperLatitude=41.18908240966411&upperLongitude=-73.11564369144105&fullResponse=true&limit=20',\n",
       " 'los angeles': 'https://citizen.com/api/incident/trending?lowerLatitude=33.64299720998807&lowerLongitude=-119.05491962459303&upperLatitude=34.49287152662065&upperLongitude=-117.6290803754074&fullResponse=true&limit=20',\n",
       " 'san francisco': 'https://citizen.com/api/incident/trending?lowerLatitude=37.38890933552479&lowerLongitude=-122.59020790312877&upperLatitude=37.79054881168709&upperLongitude=-121.88579209687083&fullResponse=true&limit=20'}"
      ]
     },
     "execution_count": 31,
     "metadata": {},
     "output_type": "execute_result"
    }
   ],
   "source": [
    "links"
   ]
  },
  {
   "cell_type": "code",
   "execution_count": 32,
   "metadata": {},
   "outputs": [
    {
     "name": "stdout",
     "output_type": "stream",
     "text": [
      "2020-09-28 11:58:13.101875+03:00\n",
      "2020-09-27 11:58:13.101875+03:00\n"
     ]
    }
   ],
   "source": [
    "datetime_now=datetime.now(tz=pytz.timezone('EET'))\n",
    "print(datetime_now)\n",
    "delta=timedelta(days=1)\n",
    "datetime_now=datetime_now-delta\n",
    "print(datetime_now)\n",
    "cursor=table.find({'Network':'Citizen App', 'Location': { '$in':list_of_cities },'Date':{'$gte':datetime.strptime(datetime_now.strftime('%Y-%m-%d %H:%M:%S'),'%Y-%m-%d %H:%M:%S')}})"
   ]
  },
  {
   "cell_type": "code",
   "execution_count": 33,
   "metadata": {},
   "outputs": [],
   "source": [
    "old_list=[]\n",
    "for row in cursor:\n",
    "    \n",
    "    old_list.append(row['Key'])   \n",
    "    #print(row)"
   ]
  },
  {
   "cell_type": "code",
   "execution_count": 34,
   "metadata": {},
   "outputs": [
    {
     "data": {
      "text/plain": [
       "[]"
      ]
     },
     "execution_count": 34,
     "metadata": {},
     "output_type": "execute_result"
    }
   ],
   "source": [
    "old_list"
   ]
  },
  {
   "cell_type": "code",
   "execution_count": 35,
   "metadata": {},
   "outputs": [],
   "source": [
    "list_of_keys=[]\n",
    "list_of_address=[]\n",
    "list_of_latitude=[]\n",
    "list_of_longitude=[]\n",
    "list_of_types=[]\n",
    "list_of_description=[]\n",
    "list_of_datetime=[]\n",
    "list_of_map_image_url=[]"
   ]
  },
  {
   "cell_type": "code",
   "execution_count": 36,
   "metadata": {},
   "outputs": [
    {
     "name": "stdout",
     "output_type": "stream",
     "text": [
      "new york\n",
      "1\n",
      "2\n",
      "3\n",
      "4\n",
      "5\n",
      "6\n",
      "7\n",
      "8\n",
      "9\n",
      "10\n",
      "11\n",
      "12\n",
      "13\n",
      "14\n",
      "15\n",
      "16\n",
      "17\n",
      "18\n",
      "19\n",
      "20\n",
      "los angeles\n",
      "21\n",
      "22\n",
      "23\n",
      "24\n",
      "25\n",
      "26\n",
      "27\n",
      "28\n",
      "29\n",
      "30\n",
      "31\n",
      "32\n",
      "33\n",
      "34\n",
      "35\n",
      "36\n",
      "37\n",
      "38\n",
      "39\n",
      "40\n",
      "san francisco\n",
      "41\n",
      "42\n",
      "43\n",
      "44\n",
      "45\n",
      "46\n",
      "47\n",
      "48\n",
      "49\n",
      "50\n",
      "51\n",
      "52\n",
      "53\n",
      "54\n",
      "55\n",
      "56\n",
      "57\n",
      "58\n",
      "59\n",
      "60\n"
     ]
    }
   ],
   "source": [
    "j=1\n",
    "for link in links:\n",
    "    print(link)\n",
    "    data=requests.get(links[link])\n",
    "    data=data.json()\n",
    "    news_items=data['results']\n",
    "    try:\n",
    "        for news_item in news_items:\n",
    "            news_key=news_item['key']\n",
    "            news_key=str(news_key)\n",
    "            if news_key in old_list:\n",
    "                print('Found in old')\n",
    "                j=1\n",
    "                raise Exception\n",
    "            list_of_keys.append(news_key)\n",
    "        #print(news_key)\n",
    "            address=news_item['address']\n",
    "            list_of_address.append(address)\n",
    "            latitude=news_item['latitude']\n",
    "            list_of_latitude.append(latitude)\n",
    "            longitude=news_item['longitude']\n",
    "            list_of_longitude.append(longitude)\n",
    "            try:\n",
    "                category=news_item['categories'][0]\n",
    "            except:\n",
    "                category='Unspecified'\n",
    "            list_of_types.append(category)\n",
    "            description=''\n",
    "            try:\n",
    "                description=description+news_item['raw']\n",
    "            except:\n",
    "                print()\n",
    "            try:\n",
    "                latest_update=news_item['updates']\n",
    "                latest_update=list(latest_update.items())[0][1]['text']\n",
    "                description=description+latest_update\n",
    "            except Exception:\n",
    "                print()\n",
    "            list_of_description.append(description)\n",
    "            try:\n",
    "                latest_update_time=news_item['updates']\n",
    "                latest_update_time=list(latest_update_time.items())\n",
    "                integers=[]\n",
    "                for key,value in latest_update_time:\n",
    "                    integers.append(int(value['ts']))\n",
    "                stamp=min(integers)\n",
    "                stamp=int(stamp/1000)\n",
    "                tz = pytz.timezone('EET')\n",
    "                dt_object = datetime.fromtimestamp(stamp , tz=tz)\n",
    "                date_corrected=dt_object.strftime(\"%Y-%m-%d %H:%M:%S\")\n",
    "            #print(date_corrected)\n",
    "                list_of_datetime.append(date_corrected)\n",
    "            except:\n",
    "                list_of_datetime.append('')\n",
    "            videolinks=[]\n",
    "            if 'liveStreamers' in news_item:\n",
    "                videos=news_item['liveStreamers']\n",
    "                for video in videos:\n",
    "                    video_id=videos[video]['videoStreamId']\n",
    "                    video_link='https://citizen.com/'+news_key+'?media='+video_id\n",
    "                    videolinks.append(video_link)\n",
    "                #print(video_link)\n",
    "            image_url=news_item['shareMap']  \n",
    "            list_of_map_image_url.append(image_url)\n",
    "            document={'Key':news_key,'Longitude':longitude, 'Latitude':latitude, 'Location':link,'Text':description,'Category':category, 'Address':address\n",
    "                        , 'Image_url':image_url , 'Video_Sources':videolinks, 'Date':dt_object, 'Network': 'Citizen App'}\n",
    "            print(j)\n",
    "            j=j+1\n",
    "            table.insert_one(document)\n",
    "    except:\n",
    "        continue"
   ]
  },
  {
   "cell_type": "code",
   "execution_count": 156,
   "metadata": {},
   "outputs": [
    {
     "ename": "SyntaxError",
     "evalue": "invalid syntax (<ipython-input-156-203a2ad3eda5>, line 1)",
     "output_type": "error",
     "traceback": [
      "\u001b[1;36m  File \u001b[1;32m\"<ipython-input-156-203a2ad3eda5>\"\u001b[1;36m, line \u001b[1;32m1\u001b[0m\n\u001b[1;33m    https://citizen.com/-MHZ3r4TCaxZFbX4qKqw?media=a8f655d4-fea7-4af7-bfb1-de1f3c0fe722\u001b[0m\n\u001b[1;37m           ^\u001b[0m\n\u001b[1;31mSyntaxError\u001b[0m\u001b[1;31m:\u001b[0m invalid syntax\n"
     ]
    }
   ],
   "source": [
    "https://citizen.com/-MHZ3r4TCaxZFbX4qKqw?media=a8f655d4-fea7-4af7-bfb1-de1f3c0fe722"
   ]
  },
  {
   "cell_type": "code",
   "execution_count": 16,
   "metadata": {},
   "outputs": [],
   "source": [
    "df=pd.DataFrame({'Key':list_of_keys,'Type':list_of_types,'Description':list_of_description,'Address':list_of_address,'DateTime':list_of_datetime,'Latitude':list_of_latitude,'Longitude':list_of_longitude,'Map':list_of_map_image_url})"
   ]
  },
  {
   "cell_type": "code",
   "execution_count": 17,
   "metadata": {},
   "outputs": [
    {
     "data": {
      "text/html": [
       "<div>\n",
       "<style scoped>\n",
       "    .dataframe tbody tr th:only-of-type {\n",
       "        vertical-align: middle;\n",
       "    }\n",
       "\n",
       "    .dataframe tbody tr th {\n",
       "        vertical-align: top;\n",
       "    }\n",
       "\n",
       "    .dataframe thead th {\n",
       "        text-align: right;\n",
       "    }\n",
       "</style>\n",
       "<table border=\"1\" class=\"dataframe\">\n",
       "  <thead>\n",
       "    <tr style=\"text-align: right;\">\n",
       "      <th></th>\n",
       "      <th>Key</th>\n",
       "      <th>Type</th>\n",
       "      <th>Description</th>\n",
       "      <th>Address</th>\n",
       "      <th>DateTime</th>\n",
       "      <th>Latitude</th>\n",
       "      <th>Longitude</th>\n",
       "      <th>Map</th>\n",
       "    </tr>\n",
       "  </thead>\n",
       "  <tbody>\n",
       "    <tr>\n",
       "      <th>0</th>\n",
       "      <td>-MI2DQL7EqYuJvR344tI</td>\n",
       "      <td>Fire</td>\n",
       "      <td>Dumpster Fire at 10 Hudson Yards, New York, NY...</td>\n",
       "      <td>10 Hudson Yards, New York, NY 10001, USA</td>\n",
       "      <td>2020-09-25 06:06:12</td>\n",
       "      <td>40.753687</td>\n",
       "      <td>-74.001916</td>\n",
       "      <td>https://storage.googleapis.com/citizen-notif-a...</td>\n",
       "    </tr>\n",
       "    <tr>\n",
       "      <th>1</th>\n",
       "      <td>-MI28QMM2ZtMYqTz3TXU</td>\n",
       "      <td>Weapon</td>\n",
       "      <td>Deli Robbed at Gunpoint at 2336 Bedford Ave, B...</td>\n",
       "      <td>2336 Bedford Ave, Brooklyn, NY 11226, USA</td>\n",
       "      <td>2020-09-25 05:44:22</td>\n",
       "      <td>40.646747</td>\n",
       "      <td>-73.955873</td>\n",
       "      <td>https://storage.googleapis.com/citizen-notif-a...</td>\n",
       "    </tr>\n",
       "    <tr>\n",
       "      <th>2</th>\n",
       "      <td>-MI26ZDmGRPGrvHNsoMJ</td>\n",
       "      <td>Protest</td>\n",
       "      <td>Protesters March to Williamsburg Bridge at Chr...</td>\n",
       "      <td>Chrystie Street &amp; Grand Street, Manhattan, New...</td>\n",
       "      <td>2020-09-25 05:36:13</td>\n",
       "      <td>40.718166</td>\n",
       "      <td>-73.993847</td>\n",
       "      <td>https://storage.googleapis.com/citizen-notif-a...</td>\n",
       "    </tr>\n",
       "    <tr>\n",
       "      <th>3</th>\n",
       "      <td>-MI22GlThtyFlEe_Vi8b</td>\n",
       "      <td>Fire</td>\n",
       "      <td>Apartment Fire at 4530 Broadway, Manhattan, Ne...</td>\n",
       "      <td>4530 Broadway, Manhattan, New York, NY, USA</td>\n",
       "      <td>2020-09-25 05:17:29</td>\n",
       "      <td>40.858711</td>\n",
       "      <td>-73.931332</td>\n",
       "      <td>https://storage.googleapis.com/citizen-notif-a...</td>\n",
       "    </tr>\n",
       "    <tr>\n",
       "      <th>4</th>\n",
       "      <td>-MI1wrDx3WlgAhjMf221</td>\n",
       "      <td>Weapon</td>\n",
       "      <td>Man Stabbed at Park Ave &amp; E 116th St, New York...</td>\n",
       "      <td>Park Ave &amp; E 116th St, New York, NY 10029, USA</td>\n",
       "      <td>2020-09-25 04:49:28</td>\n",
       "      <td>40.799247</td>\n",
       "      <td>-73.943099</td>\n",
       "      <td>https://storage.googleapis.com/citizen-notif-a...</td>\n",
       "    </tr>\n",
       "  </tbody>\n",
       "</table>\n",
       "</div>"
      ],
      "text/plain": [
       "                    Key     Type  \\\n",
       "0  -MI2DQL7EqYuJvR344tI     Fire   \n",
       "1  -MI28QMM2ZtMYqTz3TXU   Weapon   \n",
       "2  -MI26ZDmGRPGrvHNsoMJ  Protest   \n",
       "3  -MI22GlThtyFlEe_Vi8b     Fire   \n",
       "4  -MI1wrDx3WlgAhjMf221   Weapon   \n",
       "\n",
       "                                         Description  \\\n",
       "0  Dumpster Fire at 10 Hudson Yards, New York, NY...   \n",
       "1  Deli Robbed at Gunpoint at 2336 Bedford Ave, B...   \n",
       "2  Protesters March to Williamsburg Bridge at Chr...   \n",
       "3  Apartment Fire at 4530 Broadway, Manhattan, Ne...   \n",
       "4  Man Stabbed at Park Ave & E 116th St, New York...   \n",
       "\n",
       "                                             Address             DateTime  \\\n",
       "0           10 Hudson Yards, New York, NY 10001, USA  2020-09-25 06:06:12   \n",
       "1          2336 Bedford Ave, Brooklyn, NY 11226, USA  2020-09-25 05:44:22   \n",
       "2  Chrystie Street & Grand Street, Manhattan, New...  2020-09-25 05:36:13   \n",
       "3        4530 Broadway, Manhattan, New York, NY, USA  2020-09-25 05:17:29   \n",
       "4     Park Ave & E 116th St, New York, NY 10029, USA  2020-09-25 04:49:28   \n",
       "\n",
       "    Latitude  Longitude                                                Map  \n",
       "0  40.753687 -74.001916  https://storage.googleapis.com/citizen-notif-a...  \n",
       "1  40.646747 -73.955873  https://storage.googleapis.com/citizen-notif-a...  \n",
       "2  40.718166 -73.993847  https://storage.googleapis.com/citizen-notif-a...  \n",
       "3  40.858711 -73.931332  https://storage.googleapis.com/citizen-notif-a...  \n",
       "4  40.799247 -73.943099  https://storage.googleapis.com/citizen-notif-a...  "
      ]
     },
     "execution_count": 17,
     "metadata": {},
     "output_type": "execute_result"
    }
   ],
   "source": [
    "df.to_csv('citizenapp.csv', index=False)\n",
    "df.head()"
   ]
  },
  {
   "cell_type": "code",
   "execution_count": 18,
   "metadata": {},
   "outputs": [
    {
     "data": {
      "text/plain": [
       "(60, 8)"
      ]
     },
     "execution_count": 18,
     "metadata": {},
     "output_type": "execute_result"
    }
   ],
   "source": [
    "df.shape"
   ]
  },
  {
   "cell_type": "code",
   "execution_count": null,
   "metadata": {},
   "outputs": [],
   "source": []
  }
 ],
 "metadata": {
  "kernelspec": {
   "display_name": "Python 3",
   "language": "python",
   "name": "python3"
  },
  "language_info": {
   "codemirror_mode": {
    "name": "ipython",
    "version": 3
   },
   "file_extension": ".py",
   "mimetype": "text/x-python",
   "name": "python",
   "nbconvert_exporter": "python",
   "pygments_lexer": "ipython3",
   "version": "3.7.9"
  }
 },
 "nbformat": 4,
 "nbformat_minor": 4
}
